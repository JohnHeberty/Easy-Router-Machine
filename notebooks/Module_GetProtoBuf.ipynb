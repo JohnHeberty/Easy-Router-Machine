{
 "cells": [
  {
   "cell_type": "code",
   "execution_count": null,
   "id": "190367ba",
   "metadata": {},
   "outputs": [],
   "source": [
    "import requests\n",
    "from bs4 import BeautifulSoup\n",
    "import re\n",
    "from urllib.parse import urljoin\n",
    "import os\n",
    "import time\n",
    "from pySmartDL import SmartDL\n",
    "\n",
    "url         = \"https://download.geofabrik.de/south-america/brazil.html\"\n",
    "coutry      = \"brazil\"\n",
    "path_data   = \"data\"\n",
    "path_output = \"external\"\n",
    "path_module = \"protobuf\"\n",
    "path_file   = \"brazil-latest.osm.pbf\"\n",
    "\n",
    "path_folder = os.path.join(path_data, path_output, path_module)\n",
    "os.makedirs(path_folder, exist_ok=True)\n",
    "\n",
    "response = requests.get(url)\n",
    "soup = BeautifulSoup(response.text, \"html.parser\")\n",
    "\n",
    "# Lista para armazenar links de downloads (ex: arquivos .osm, .pbf, .bz2)\n",
    "download_protobuf = []\n",
    "for a in soup.find_all(\"a\", href=True):\n",
    "    href = a[\"href\"]\n",
    "    if re.search(rf'{coutry}-latest.*\\.(osm|pbf)$', href, flags=re.IGNORECASE):\n",
    "        # Cria o link completo usando a URL base e o atributo href\n",
    "        download_protobuf = urljoin(url, href)\n",
    "        break\n",
    "\n",
    "download_path = os.path.join(path_folder, path_file)\n",
    "obj = SmartDL(download_protobuf, download_path, timeout=10)\n",
    "obj.start(blocking=True)\n",
    "print(f\"Download concluído e salvo como {download_path}\")"
   ]
  },
  {
   "cell_type": "code",
   "execution_count": 6,
   "id": "b0bf5a4c",
   "metadata": {},
   "outputs": [
    {
     "ename": "SyntaxError",
     "evalue": "invalid syntax (2888628644.py, line 1)",
     "output_type": "error",
     "traceback": [
      "  \u001b[36mCell\u001b[39m\u001b[36m \u001b[39m\u001b[32mIn[6]\u001b[39m\u001b[32m, line 1\u001b[39m\n\u001b[31m    \u001b[39m\u001b[31mimport ..modules.geofabrik as geofabrik\u001b[39m\n           ^\n\u001b[31mSyntaxError\u001b[39m\u001b[31m:\u001b[39m invalid syntax\n"
     ]
    }
   ],
   "source": [
    "import ..modules.geofabrik as geofabrik\n",
    "\n",
    "geo = geofabrik.ProtobufDownloader()\n",
    "geo.run()"
   ]
  },
  {
   "cell_type": "code",
   "execution_count": null,
   "id": "836bc062",
   "metadata": {},
   "outputs": [],
   "source": [
    "!git commit -m \"feat: adiciona módulo geofabrick\""
   ]
  },
  {
   "cell_type": "code",
   "execution_count": null,
   "id": "0282ce2c",
   "metadata": {},
   "outputs": [],
   "source": []
  },
  {
   "cell_type": "code",
   "execution_count": null,
   "id": "ed1e1f0f",
   "metadata": {},
   "outputs": [],
   "source": []
  }
 ],
 "metadata": {
  "kernelspec": {
   "display_name": "venv",
   "language": "python",
   "name": "python3"
  },
  "language_info": {
   "codemirror_mode": {
    "name": "ipython",
    "version": 3
   },
   "file_extension": ".py",
   "mimetype": "text/x-python",
   "name": "python",
   "nbconvert_exporter": "python",
   "pygments_lexer": "ipython3",
   "version": "3.12.7"
  }
 },
 "nbformat": 4,
 "nbformat_minor": 5
}
